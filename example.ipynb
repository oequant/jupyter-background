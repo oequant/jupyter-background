{
 "cells": [
  {
   "cell_type": "markdown",
   "metadata": {},
   "source": [
    "# Background Magic Example\n",
    "\n",
    "This notebook demonstrates the `%%background` magic."
   ]
  },
  {
   "cell_type": "markdown",
   "metadata": {},
   "source": [
    "## Installation (if needed)\n",
    "\n",
    "Ensure you have installed the package from the project root directory:\n",
    "\n",
    "```bash\n",
    "# pip install -e .\n",
    "```"
   ]
  },
  {
   "cell_type": "markdown",
   "metadata": {},
   "source": [
    "## Load the Extension"
   ]
  },
  {
   "cell_type": "code",
   "execution_count": 1,
   "metadata": {},
   "outputs": [],
   "source": [
    "%load_ext background_magic"
   ]
  },
  {
   "cell_type": "markdown",
   "metadata": {},
   "source": [
    "## 1. Simple Background Task\n",
    "\n",
    "Run the cell below. While it's running (showing the `Running...` indicator), immediately run the next cell (`print('Hello from main thread!')`)."
   ]
  },
  {
   "cell_type": "code",
   "execution_count": 2,
   "metadata": {},
   "outputs": [
    {
     "data": {
      "text/html": [
       "<div id='status_bg_task_1_a9d5003d' style='margin-bottom: 5px;'><i>Finished (Completed) - 12s</i></div>"
      ],
      "text/plain": [
       "<IPython.core.display.HTML object>"
      ]
     },
     "metadata": {},
     "output_type": "display_data"
    },
    {
     "name": "stdout",
     "output_type": "stream",
     "text": [
      "Starting background task 1...\n",
      "Background task 1: loop 1/5\n"
     ]
    },
    {
     "name": "stdout",
     "output_type": "stream",
     "text": [
      "Background task 1: loop 2/5\n",
      "Background task 1: loop 3/5\n",
      "Background task 1: loop 4/5\n",
      "Background task 1: loop 5/5\n",
      "Background task 1 finished.\n"
     ]
    }
   ],
   "source": [
    "%%background\n",
    "\n",
    "import time\n",
    "\n",
    "print(\"Starting background task 1...\")\n",
    "for i in range(5):\n",
    "    print(f\"Background task 1: loop {i+1}/5\")\n",
    "    time.sleep(2.5) # Simulate work\n",
    "print(\"Background task 1 finished.\")"
   ]
  },
  {
   "cell_type": "code",
   "execution_count": 3,
   "metadata": {},
   "outputs": [
    {
     "data": {
      "text/html": [
       "<div id='status_bg_task_2_58dda81d' style='margin-bottom: 5px;'><i>Finished (Completed) - 12s</i></div>"
      ],
      "text/plain": [
       "<IPython.core.display.HTML object>"
      ]
     },
     "metadata": {},
     "output_type": "display_data"
    },
    {
     "name": "stdout",
     "output_type": "stream",
     "text": [
      "Starting background task 1...\n",
      "Background task 2: loop 1/5\n"
     ]
    },
    {
     "name": "stdout",
     "output_type": "stream",
     "text": [
      "Background task 2: loop 2/5\n",
      "Background task 2: loop 3/5\n",
      "Background task 2: loop 4/5\n",
      "Background task 2: loop 5/5\n",
      "Background task 1 finished.\n"
     ]
    }
   ],
   "source": [
    "%%background\n",
    "\n",
    "import time\n",
    "\n",
    "print(\"Starting background task 1...\")\n",
    "for i in range(5):\n",
    "    print(f\"Background task 2: loop {i+1}/5\")\n",
    "    time.sleep(2.5) # Simulate work\n",
    "print(\"Background task 1 finished.\")"
   ]
  },
  {
   "cell_type": "code",
   "execution_count": 4,
   "metadata": {},
   "outputs": [],
   "source": [
    "b = 10"
   ]
  },
  {
   "cell_type": "code",
   "execution_count": 5,
   "metadata": {},
   "outputs": [
    {
     "name": "stderr",
     "output_type": "stream",
     "text": [
      "[Warning] Skipping non-serializable global variable 'get_ipython' (type: method). Error: cannot pickle 'sqlite3.Connection' object\n",
      "[Warning] Skipping non-serializable global variable 'exit' (type: ZMQExitAutocall). Error: cannot pickle 'sqlite3.Connection' object\n",
      "[Warning] Skipping non-serializable global variable 'quit' (type: ZMQExitAutocall). Error: cannot pickle 'sqlite3.Connection' object\n"
     ]
    },
    {
     "data": {
      "text/html": [
       "<div id='status_bg_task_3_eb98bd07' style='margin-bottom: 5px;'><i>Starting [bg_task_3]...</i></div>"
      ],
      "text/plain": [
       "<IPython.core.display.HTML object>"
      ]
     },
     "metadata": {},
     "output_type": "display_data"
    },
    {
     "name": "stdout",
     "output_type": "stream",
     "text": [
      "Starting background task 1...\n",
      "10\n",
      "Background task 1: loop 1/5\n"
     ]
    },
    {
     "name": "stdout",
     "output_type": "stream",
     "text": [
      "10\n",
      "Background task 1: loop 2/5\n",
      "10\n",
      "Background task 1: loop 3/5\n",
      "10\n",
      "Background task 1: loop 4/5\n",
      "10\n",
      "Background task 1: loop 5/5\n",
      "Background task 1 finished.\n"
     ]
    }
   ],
   "source": [
    "%%background\n",
    "\n",
    "import time\n",
    "\n",
    "print(\"Starting background task 1...\")\n",
    "for i in range(5):\n",
    "    print(b)\n",
    "    print(f\"Background task 1: loop {i+1}/5\")\n",
    "    time.sleep(2.5) # Simulate work\n",
    "print(\"Background task 1 finished.\")"
   ]
  },
  {
   "cell_type": "code",
   "execution_count": 11,
   "metadata": {},
   "outputs": [
    {
     "name": "stdout",
     "output_type": "stream",
     "text": [
      "Hello from main thread!\n"
     ]
    },
    {
     "data": {
      "text/html": [
       "<pre style='margin:0; padding:0; white-space: pre-wrap;'>Background task 1: loop 2/5</pre>"
      ],
      "text/plain": [
       "<IPython.core.display.HTML object>"
      ]
     },
     "metadata": {},
     "output_type": "display_data"
    },
    {
     "data": {
      "text/html": [
       "<pre style='margin:0; padding:0; white-space: pre-wrap;'>\n",
       "</pre>"
      ],
      "text/plain": [
       "<IPython.core.display.HTML object>"
      ]
     },
     "metadata": {},
     "output_type": "display_data"
    },
    {
     "name": "stdout",
     "output_type": "stream",
     "text": [
      "Main thread done sleeping.\n"
     ]
    },
    {
     "data": {
      "text/html": [
       "<pre style='margin:0; padding:0; white-space: pre-wrap;'>Background task 1: loop 3/5</pre>"
      ],
      "text/plain": [
       "<IPython.core.display.HTML object>"
      ]
     },
     "metadata": {},
     "output_type": "display_data"
    },
    {
     "data": {
      "text/html": [
       "<pre style='margin:0; padding:0; white-space: pre-wrap;'>\n",
       "</pre>"
      ],
      "text/plain": [
       "<IPython.core.display.HTML object>"
      ]
     },
     "metadata": {},
     "output_type": "display_data"
    },
    {
     "data": {
      "text/html": [
       "<pre style='margin:0; padding:0; white-space: pre-wrap;'>Background task 1: loop 4/5</pre>"
      ],
      "text/plain": [
       "<IPython.core.display.HTML object>"
      ]
     },
     "metadata": {},
     "output_type": "display_data"
    },
    {
     "data": {
      "text/html": [
       "<pre style='margin:0; padding:0; white-space: pre-wrap;'>\n",
       "</pre>"
      ],
      "text/plain": [
       "<IPython.core.display.HTML object>"
      ]
     },
     "metadata": {},
     "output_type": "display_data"
    },
    {
     "data": {
      "text/html": [
       "<pre style='margin:0; padding:0; white-space: pre-wrap;'>Background task 1: loop 5/5</pre>"
      ],
      "text/plain": [
       "<IPython.core.display.HTML object>"
      ]
     },
     "metadata": {},
     "output_type": "display_data"
    },
    {
     "data": {
      "text/html": [
       "<pre style='margin:0; padding:0; white-space: pre-wrap;'>\n",
       "</pre>"
      ],
      "text/plain": [
       "<IPython.core.display.HTML object>"
      ]
     },
     "metadata": {},
     "output_type": "display_data"
    },
    {
     "data": {
      "text/html": [
       "<pre style='margin:0; padding:0; white-space: pre-wrap;'>Background task 1 finished.</pre>"
      ],
      "text/plain": [
       "<IPython.core.display.HTML object>"
      ]
     },
     "metadata": {},
     "output_type": "display_data"
    },
    {
     "data": {
      "text/html": [
       "<pre style='margin:0; padding:0; white-space: pre-wrap;'>\n",
       "</pre>"
      ],
      "text/plain": [
       "<IPython.core.display.HTML object>"
      ]
     },
     "metadata": {},
     "output_type": "display_data"
    }
   ],
   "source": [
    "# Execute this cell *while* the cell above is running\n",
    "print('Hello from main thread!')\n",
    "import time\n",
    "time.sleep(1) # Give task 1 a chance to print something else\n",
    "print('Main thread done sleeping.')"
   ]
  },
  {
   "cell_type": "markdown",
   "metadata": {},
   "source": [
    "## 2. Background Task with Error"
   ]
  },
  {
   "cell_type": "code",
   "execution_count": 4,
   "metadata": {},
   "outputs": [
    {
     "data": {
      "text/html": [
       "<div id='status_bg_task_3_2b9529a8' style='margin-bottom: 5px;'><i>Finished (Error) - 2s</i></div>"
      ],
      "text/plain": [
       "<IPython.core.display.HTML object>"
      ]
     },
     "metadata": {},
     "output_type": "display_data"
    },
    {
     "name": "stdout",
     "output_type": "stream",
     "text": [
      "Starting background task 2 (will raise error)...\n"
     ]
    },
    {
     "name": "stdout",
     "output_type": "stream",
     "text": [
      "About to divide by zero...\n"
     ]
    },
    {
     "name": "stderr",
     "output_type": "stream",
     "text": [
      "Traceback (most recent call last):\n",
      "  File \"/home/research/Dropbox/projects/ideas/jupyter-runinbackground/background_magic/background_runner.py\", line 101, in run_code_in_background\n",
      "    exec(code_str, exec_globals)\n",
      "  File \"<string>\", line 7, in <module>\n",
      "ZeroDivisionError: division by zero\n"
     ]
    }
   ],
   "source": [
    "%%background\n",
    "\n",
    "import time\n",
    "\n",
    "print(\"Starting background task 2 (will raise error)...\")\n",
    "time.sleep(2)\n",
    "print(\"About to divide by zero...\")\n",
    "result = 1 / 0\n",
    "print(\"This will not be printed.\")"
   ]
  },
  {
   "cell_type": "markdown",
   "metadata": {},
   "source": [
    "## 3. Multiple Concurrent Tasks"
   ]
  },
  {
   "cell_type": "code",
   "execution_count": 5,
   "metadata": {},
   "outputs": [
    {
     "data": {
      "text/html": [
       "<div id='status_bg_task_4_4a7dd328' style='margin-bottom: 5px;'><i>Finished (Completed) - 4s</i></div>"
      ],
      "text/plain": [
       "<IPython.core.display.HTML object>"
      ]
     },
     "metadata": {},
     "output_type": "display_data"
    },
    {
     "name": "stdout",
     "output_type": "stream",
     "text": [
      "Task A started\n"
     ]
    },
    {
     "name": "stdout",
     "output_type": "stream",
     "text": [
      "Task A finished\n"
     ]
    }
   ],
   "source": [
    "%%background\n",
    "import time\n",
    "print(\"Task A started\")\n",
    "time.sleep(4)\n",
    "print(\"Task A finished\")"
   ]
  },
  {
   "cell_type": "code",
   "execution_count": 10,
   "metadata": {},
   "outputs": [
    {
     "data": {
      "text/html": [
       "<div id='status_bg_task_6_cc4ae475' style='margin-bottom: 5px;'><i>Running / (174s)</i></div>"
      ],
      "text/plain": [
       "<IPython.core.display.HTML object>"
      ]
     },
     "metadata": {},
     "output_type": "display_data"
    },
    {
     "data": {
      "text/html": [
       "<pre style='margin:0; padding:0; white-space: pre-wrap;'>Task B started</pre>"
      ],
      "text/plain": [
       "<IPython.core.display.HTML object>"
      ]
     },
     "metadata": {},
     "output_type": "display_data"
    },
    {
     "data": {
      "text/html": [
       "<pre style='margin:0; padding:0; white-space: pre-wrap;'>\n",
       "</pre>"
      ],
      "text/plain": [
       "<IPython.core.display.HTML object>"
      ]
     },
     "metadata": {},
     "output_type": "display_data"
    },
    {
     "data": {
      "text/html": [
       "<pre style='margin:0; padding:0; white-space: pre-wrap;'>Task A finished</pre>"
      ],
      "text/plain": [
       "<IPython.core.display.HTML object>"
      ]
     },
     "metadata": {},
     "output_type": "display_data"
    },
    {
     "data": {
      "text/html": [
       "<pre style='margin:0; padding:0; white-space: pre-wrap;'>\n",
       "</pre>"
      ],
      "text/plain": [
       "<IPython.core.display.HTML object>"
      ]
     },
     "metadata": {},
     "output_type": "display_data"
    },
    {
     "data": {
      "text/html": [
       "<pre style='margin:0; padding:0; white-space: pre-wrap;'>Task B finished</pre>"
      ],
      "text/plain": [
       "<IPython.core.display.HTML object>"
      ]
     },
     "metadata": {},
     "output_type": "display_data"
    },
    {
     "data": {
      "text/html": [
       "<pre style='margin:0; padding:0; white-space: pre-wrap;'>\n",
       "</pre>"
      ],
      "text/plain": [
       "<IPython.core.display.HTML object>"
      ]
     },
     "metadata": {},
     "output_type": "display_data"
    },
    {
     "data": {
      "text/html": [
       "<pre style='margin:0; padding:0; white-space: pre-wrap;'>Task B finished</pre>"
      ],
      "text/plain": [
       "<IPython.core.display.HTML object>"
      ]
     },
     "metadata": {},
     "output_type": "display_data"
    },
    {
     "data": {
      "text/html": [
       "<pre style='margin:0; padding:0; white-space: pre-wrap;'>\n",
       "</pre>"
      ],
      "text/plain": [
       "<IPython.core.display.HTML object>"
      ]
     },
     "metadata": {},
     "output_type": "display_data"
    }
   ],
   "source": [
    "%%background\n",
    "import time\n",
    "print(\"Task B started\")\n",
    "time.sleep(6)\n",
    "print(\"Task B finished\")"
   ]
  },
  {
   "cell_type": "code",
   "execution_count": null,
   "metadata": {},
   "outputs": [],
   "source": [
    "print(\"Both background tasks A and B should be running concurrently now.\")"
   ]
  },
  {
   "cell_type": "code",
   "execution_count": 9,
   "metadata": {},
   "outputs": [],
   "source": [
    "\n",
    "import time\n",
    "import matplotlib.pyplot as plt\n",
    "import numpy as np\n",
    "import matplotlib\n",
    "\n",
    "%matplotlib inline"
   ]
  },
  {
   "cell_type": "code",
   "execution_count": 10,
   "metadata": {},
   "outputs": [
    {
     "data": {
      "text/html": [
       "<div id='status_bg_task_7_ea23c844' style='margin-bottom: 5px;'><i>Finished (Completed) - 14s</i></div>"
      ],
      "text/plain": [
       "<IPython.core.display.HTML object>"
      ]
     },
     "metadata": {},
     "output_type": "display_data"
    },
    {
     "name": "stdout",
     "output_type": "stream",
     "text": [
      "Background task with print and plot starting...\n"
     ]
    },
    {
     "name": "stdout",
     "output_type": "stream",
     "text": [
      "Data generated, creating plot...\n"
     ]
    },
    {
     "name": "stderr",
     "output_type": "stream",
     "text": [
      "<string>:23: UserWarning: FigureCanvasAgg is non-interactive, and thus cannot be shown\n"
     ]
    },
    {
     "name": "stdout",
     "output_type": "stream",
     "text": [
      "Data generated, creating plot...\n",
      "Plot generated and shown.\n",
      "Background task with print and plot finished.\n"
     ]
    }
   ],
   "source": [
    "%%background\n",
    "\n",
    "\n",
    "\n",
    "\n",
    "print(\"Background task with print and plot starting...\")\n",
    "time.sleep(1)\n",
    "\n",
    "# Generate some data\n",
    "x = np.linspace(0, 10, 100)\n",
    "y = np.sin(x)\n",
    "\n",
    "print(\"Data generated, creating plot...\")\n",
    "time.sleep(1)\n",
    "\n",
    "# Create the plot\n",
    "fig, ax = plt.subplots()\n",
    "ax.plot(x, y)\n",
    "ax.set_title(\"Simple Sine Wave\")\n",
    "ax.set_xlabel(\"X-axis\")\n",
    "ax.set_ylabel(\"Y-axis\")\n",
    "\n",
    "# IMPORTANT: Display the plot so it can potentially be captured\n",
    "plt.show() \n",
    "# Alternatively, in some setups, just having the fig object might trigger display,\n",
    "# but explicitly calling plt.show() is usually more reliable for scripts.\n",
    "\n",
    "\n",
    "# Generate some data\n",
    "x = np.linspace(0, 10, 100)\n",
    "y = np.cos(x)\n",
    "\n",
    "print(\"Data generated, creating plot...\")\n",
    "time.sleep(1)\n",
    "\n",
    "# Create the plot\n",
    "fig, ax = plt.subplots()\n",
    "ax.plot(x, y)\n",
    "ax.set_title(\"Simple Sine Wave\")\n",
    "ax.set_xlabel(\"X-axis\")\n",
    "ax.set_ylabel(\"Y-axis\")\n",
    "\n",
    "time.sleep(10)\n",
    "print(\"Plot generated and shown.\")\n",
    "time.sleep(1)\n",
    "print(\"Background task with print and plot finished.\")"
   ]
  },
  {
   "cell_type": "markdown",
   "metadata": {},
   "source": [
    "## 4. Unload the Extension\n",
    "\n",
    "This will attempt to stop any remaining background tasks."
   ]
  },
  {
   "cell_type": "code",
   "execution_count": null,
   "metadata": {},
   "outputs": [],
   "source": [
    "# %unload_ext background_magic\n",
    "# print('Extension unloaded')"
   ]
  },
  {
   "cell_type": "markdown",
   "metadata": {},
   "source": [
    "## 4. Test Access to Various Global Variable Types"
   ]
  },
  {
   "cell_type": "code",
   "execution_count": 1,
   "metadata": {},
   "outputs": [
    {
     "name": "stdout",
     "output_type": "stream",
     "text": [
      "Global variables defined.\n"
     ]
    }
   ],
   "source": [
    "# Define various global variables\n",
    "import pandas as pd\n",
    "\n",
    "global_string = \"A global string\"\n",
    "global_int = 42\n",
    "global_list = [1, 2, 3, 'a']\n",
    "global_dict = {'key': 'value', 'number': 123}\n",
    "global_df = pd.DataFrame({'col1': [10, 20], 'col2': ['X', 'Y']})\n",
    "\n",
    "def global_regular_function(x):\n",
    "    return f\"Function called with {x}\"\n",
    "\n",
    "global_lambda = lambda y: y * 2\n",
    "\n",
    "# A variable that might be tricky to pickle (e.g., a generator)\n",
    "# We expect this to be skipped based on our current serialization logic\n",
    "# global_generator = (i for i in range(3)) \n",
    "\n",
    "print(\"Global variables defined.\")"
   ]
  },
  {
   "cell_type": "code",
   "execution_count": null,
   "metadata": {},
   "outputs": [
    {
     "name": "stderr",
     "output_type": "stream",
     "text": [
      "[Info] Skipped potentially non-serializable global variables: ['__name__', '__doc__', '__package__', '__loader__', '__spec__', '__builtin__', '__builtins__', '_ih', '_oh', '_dh', 'get_ipython', 'exit', 'quit', '_', '__', '___', '__vsc_ipynb_file__', 'matplotlib', '_VSCode_defaultMatplotlib_Params', '_i', '_ii', '_iii', '_i1', 'pd', '_2', '_i2', '_3', '_i3', '_4', '_i4']\n"
     ]
    },
    {
     "data": {
      "text/html": [
       "<div id='status_bg_task_1_26e222d8' style='margin-bottom: 5px;'><i>Starting [bg_task_1]...</i></div>"
      ],
      "text/plain": [
       "<IPython.core.display.HTML object>"
      ]
     },
     "metadata": {},
     "output_type": "display_data"
    },
    {
     "data": {
      "text/html": [
       "<pre style='margin:0; padding:0; white-space: pre-wrap;'>--- Testing access to globals in background ---</pre>"
      ],
      "text/plain": [
       "<IPython.core.display.HTML object>"
      ]
     },
     "metadata": {},
     "output_type": "display_data"
    },
    {
     "data": {
      "text/html": [
       "<pre style='margin:0; padding:0; white-space: pre-wrap;'>\n",
       "</pre>"
      ],
      "text/plain": [
       "<IPython.core.display.HTML object>"
      ]
     },
     "metadata": {},
     "output_type": "display_data"
    }
   ],
   "source": [
    "%%background\n",
    "\n",
    "import time\n",
    "\n",
    "print(\"--- Testing access to globals in background ---\")\n",
    "\n",
    "# Try accessing each type\n",
    "try:\n",
    "    print(f\"String: {global_string}\")\n",
    "    print(f\"Integer: {global_int}\")\n",
    "    print(f\"List: {global_list}\")\n",
    "    print(f\"Dict: {global_dict}\")\n",
    "    print(\"DataFrame:\\n\", global_df)\n",
    "    print(f\"Function result: {global_regular_function('test')}\")\n",
    "    print(f\"Lambda result: {global_lambda(5)}\")\n",
    "except NameError as e:\n",
    "    print(f\"ERROR: Failed to access a global variable: {e}\")\n",
    "except Exception as e:\n",
    "    print(f\"ERROR during global access test: {e}\")\n",
    "\n",
    "# Test modifying a mutable object (list) copy\n",
    "try:\n",
    "   global_list.append('modified_in_bg')\n",
    "   print(f\"Modified list copy: {global_list}\")\n",
    "except NameError:\n",
    "   pass # Error already printed above\n",
    "\n",
    "print(\"--- Finished testing globals in background ---\")\n",
    "time.sleep(1)"
   ]
  },
  {
   "cell_type": "code",
   "execution_count": null,
   "metadata": {},
   "outputs": [],
   "source": [
    "# Check that the original global list was NOT modified\n",
    "print(\"Checking original global list after background task:\")\n",
    "print(global_list)"
   ]
  }
 ],
 "metadata": {
  "kernelspec": {
   "display_name": "venv_bg_magic",
   "language": "python",
   "name": "python3"
  },
  "language_info": {
   "codemirror_mode": {
    "name": "ipython",
    "version": 3
   },
   "file_extension": ".py",
   "mimetype": "text/x-python",
   "name": "python",
   "nbconvert_exporter": "python",
   "pygments_lexer": "ipython3",
   "version": "3.10.12"
  }
 },
 "nbformat": 4,
 "nbformat_minor": 4
}
